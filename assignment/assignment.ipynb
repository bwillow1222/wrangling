{
  "cells": [
    {
      "cell_type": "markdown",
      "id": "13ad028b-72b7-43ed-aa78-96fd4e518040",
      "metadata": {
        "id": "13ad028b-72b7-43ed-aa78-96fd4e518040"
      },
      "source": [
        "# Assignment: Data Wrangling"
      ]
    },
    {
      "cell_type": "code",
      "source": [
        "! git clone https://github.com/bwillow1222/wrangling"
      ],
      "metadata": {
        "id": "FtpTx93YwUlF",
        "outputId": "95aa09e9-7401-41df-d4ff-8b0a262c56d8",
        "colab": {
          "base_uri": "https://localhost:8080/"
        }
      },
      "id": "FtpTx93YwUlF",
      "execution_count": 25,
      "outputs": [
        {
          "output_type": "stream",
          "name": "stdout",
          "text": [
            "fatal: destination path 'wrangling' already exists and is not an empty directory.\n"
          ]
        }
      ]
    },
    {
      "cell_type": "markdown",
      "id": "5735a4d4-8be8-433a-a351-70eb8002e632",
      "metadata": {
        "id": "5735a4d4-8be8-433a-a351-70eb8002e632"
      },
      "source": [
        "**Q1.** Open the \"tidy_data.pdf\" document in the repo, which is a paper called Tidy Data by Hadley Wickham.\n",
        "\n",
        "  1. Read the abstract. What is this paper about?\n",
        "  \n",
        "  This abstract discusses a small part of data cleaning called data tidying. Data tidying is using a consistent data structure where each variable is a column, each observation is a row, and each type of observational unit is a table so that manipulating the data is more streamlined and effective.\n",
        "  2. Read the introduction. What is the \"tidy data standard\" intended to accomplish?\n",
        "\n",
        "  The tidy data standard is a guideline of how to structure data so that data cleaning tools can work well together.\n",
        "  3. Read the intro to section 2. What does this sentence mean: \"Like families, tidy datasets are all alike but every messy dataset is messy in its own way.\" What does this sentence mean: \"For a given dataset, it’s usually easy to figure out what are observations and what are variables, but it is surprisingly difficult to precisely define variables and observations in general.\"\n",
        "\n",
        "  The first sentence means something along the lines of each dataset will have it's own unique cleaning problems, but will adhere to the same structure.\n",
        "\n",
        "  The second sentence says that the standard structure of a dataset will intuitively show you what a variable (a column) and an observation (a row) is, but determining what those categories should be in the first place is often difficult.\n",
        "  4. Read Section 2.2. How does Wickham define values, variables, and observations?\n",
        "\n",
        "  A value is a number or string that belongs to both an observation and a variable. A variable contains all values that measure the same underlying attribute across units. An observation contains all values measured on the same unit (like a person) across attributes.  \n",
        "  5. How is \"Tidy Data\" defined in section 2.3?\n",
        "\n",
        "  For Tidy Data, each variable forms a column, each observation forms a row, and each type of observational unit forms a table.\n",
        "  6. Read the intro to Section 3 and Section 3.1. What are the 5 most common problems with messy datasets? Why are the data in Table 4 messy? What is \"melting\" a dataset?\n",
        "\n",
        "  The 5 most common problems are:\n",
        "  - Column headers are values, not variable names\n",
        "  - Multiple variables are stored in one column\n",
        "  - Variables are stored in both rows and columns\n",
        "  - Multiple types of observational units are stored in the same table\n",
        "  - A single observational unit is stored in multiple tables\n",
        "  \n",
        "  Table 4 is messy because both the columns and rows represent variables. This doesn't follow the tidy data standard so it is considered messy. Melting data is when you turn column-value variables into rows\n",
        "  7. Why, specifically, is table 11 messy but table 12 tidy and \"molten\"?\n",
        "\n",
        "  Table 11 has days as columns which are values. Table 12 turns those days into the date column\n",
        "  8. Read Section 6. What is the \"chicken-and-egg\" problem with focusing on tidy data? What does Wickham hope happens in the future with further work on the subject of data wrangling?\n",
        "\n",
        "  The problem with focusing on tidy data is it's only as effective as the data analysis tools that work with it. If a tidy data is the standard and you want to use an independent different data structure or data tool, it will not improve workflow. Wickham hopes that people will understand the idea of tidy data and further develop it to create better data storage strategies and tools."
      ]
    },
    {
      "cell_type": "code",
      "source": [
        "import pandas as pd\n",
        "import numpy as np"
      ],
      "metadata": {
        "id": "RnyytPtW0cMZ"
      },
      "id": "RnyytPtW0cMZ",
      "execution_count": 26,
      "outputs": []
    },
    {
      "cell_type": "markdown",
      "id": "da879ea7-8aac-48a3-b6c2-daea56d2e072",
      "metadata": {
        "id": "da879ea7-8aac-48a3-b6c2-daea56d2e072"
      },
      "source": [
        "**Q2.** This question provides some practice cleaning variables which have common problems.\n",
        "1. Numeric variable: For `./data/airbnb_hw.csv`, clean the `Price` variable as well as you can, and explain the choices you make. How many missing values do you end up with? (Hint: What happens to the formatting when a price goes over 999 dollars, say from 675 to 1,112?)\n"
      ]
    },
    {
      "cell_type": "code",
      "source": [
        "df = pd.read_csv(\"/content/wrangling/assignment/data/airbnb_hw.csv\", low_memory=False)\n",
        "print(df.shape)\n",
        "df.head()"
      ],
      "metadata": {
        "id": "KZ--_k6B0RYJ",
        "outputId": "1225f18b-fb4b-473b-9f7a-4ae66b1199d3",
        "colab": {
          "base_uri": "https://localhost:8080/",
          "height": 487
        }
      },
      "id": "KZ--_k6B0RYJ",
      "execution_count": 27,
      "outputs": [
        {
          "output_type": "stream",
          "name": "stdout",
          "text": [
            "(30478, 13)\n"
          ]
        },
        {
          "output_type": "execute_result",
          "data": {
            "text/plain": [
              "    Host Id Host Since                                Name Neighbourhood   \\\n",
              "0   5162530        NaN     1 Bedroom in Prime Williamsburg       Brooklyn   \n",
              "1  33134899        NaN     Sunny, Private room in Bushwick       Brooklyn   \n",
              "2  39608626        NaN                Sunny Room in Harlem      Manhattan   \n",
              "3       500  6/26/2008  Gorgeous 1 BR with Private Balcony      Manhattan   \n",
              "4       500  6/26/2008            Trendy Times Square Loft      Manhattan   \n",
              "\n",
              "  Property Type  Review Scores Rating (bin)        Room Type  Zipcode  Beds  \\\n",
              "0     Apartment                         NaN  Entire home/apt  11249.0   1.0   \n",
              "1     Apartment                         NaN     Private room  11206.0   1.0   \n",
              "2     Apartment                         NaN     Private room  10032.0   1.0   \n",
              "3     Apartment                         NaN  Entire home/apt  10024.0   3.0   \n",
              "4     Apartment                        95.0     Private room  10036.0   3.0   \n",
              "\n",
              "   Number of Records  Number Of Reviews Price  Review Scores Rating  \n",
              "0                  1                  0   145                   NaN  \n",
              "1                  1                  1    37                   NaN  \n",
              "2                  1                  1    28                   NaN  \n",
              "3                  1                  0   199                   NaN  \n",
              "4                  1                 39   549                  96.0  "
            ],
            "text/html": [
              "\n",
              "  <div id=\"df-896cdb41-2770-487c-9440-f6d88583f981\" class=\"colab-df-container\">\n",
              "    <div>\n",
              "<style scoped>\n",
              "    .dataframe tbody tr th:only-of-type {\n",
              "        vertical-align: middle;\n",
              "    }\n",
              "\n",
              "    .dataframe tbody tr th {\n",
              "        vertical-align: top;\n",
              "    }\n",
              "\n",
              "    .dataframe thead th {\n",
              "        text-align: right;\n",
              "    }\n",
              "</style>\n",
              "<table border=\"1\" class=\"dataframe\">\n",
              "  <thead>\n",
              "    <tr style=\"text-align: right;\">\n",
              "      <th></th>\n",
              "      <th>Host Id</th>\n",
              "      <th>Host Since</th>\n",
              "      <th>Name</th>\n",
              "      <th>Neighbourhood</th>\n",
              "      <th>Property Type</th>\n",
              "      <th>Review Scores Rating (bin)</th>\n",
              "      <th>Room Type</th>\n",
              "      <th>Zipcode</th>\n",
              "      <th>Beds</th>\n",
              "      <th>Number of Records</th>\n",
              "      <th>Number Of Reviews</th>\n",
              "      <th>Price</th>\n",
              "      <th>Review Scores Rating</th>\n",
              "    </tr>\n",
              "  </thead>\n",
              "  <tbody>\n",
              "    <tr>\n",
              "      <th>0</th>\n",
              "      <td>5162530</td>\n",
              "      <td>NaN</td>\n",
              "      <td>1 Bedroom in Prime Williamsburg</td>\n",
              "      <td>Brooklyn</td>\n",
              "      <td>Apartment</td>\n",
              "      <td>NaN</td>\n",
              "      <td>Entire home/apt</td>\n",
              "      <td>11249.0</td>\n",
              "      <td>1.0</td>\n",
              "      <td>1</td>\n",
              "      <td>0</td>\n",
              "      <td>145</td>\n",
              "      <td>NaN</td>\n",
              "    </tr>\n",
              "    <tr>\n",
              "      <th>1</th>\n",
              "      <td>33134899</td>\n",
              "      <td>NaN</td>\n",
              "      <td>Sunny, Private room in Bushwick</td>\n",
              "      <td>Brooklyn</td>\n",
              "      <td>Apartment</td>\n",
              "      <td>NaN</td>\n",
              "      <td>Private room</td>\n",
              "      <td>11206.0</td>\n",
              "      <td>1.0</td>\n",
              "      <td>1</td>\n",
              "      <td>1</td>\n",
              "      <td>37</td>\n",
              "      <td>NaN</td>\n",
              "    </tr>\n",
              "    <tr>\n",
              "      <th>2</th>\n",
              "      <td>39608626</td>\n",
              "      <td>NaN</td>\n",
              "      <td>Sunny Room in Harlem</td>\n",
              "      <td>Manhattan</td>\n",
              "      <td>Apartment</td>\n",
              "      <td>NaN</td>\n",
              "      <td>Private room</td>\n",
              "      <td>10032.0</td>\n",
              "      <td>1.0</td>\n",
              "      <td>1</td>\n",
              "      <td>1</td>\n",
              "      <td>28</td>\n",
              "      <td>NaN</td>\n",
              "    </tr>\n",
              "    <tr>\n",
              "      <th>3</th>\n",
              "      <td>500</td>\n",
              "      <td>6/26/2008</td>\n",
              "      <td>Gorgeous 1 BR with Private Balcony</td>\n",
              "      <td>Manhattan</td>\n",
              "      <td>Apartment</td>\n",
              "      <td>NaN</td>\n",
              "      <td>Entire home/apt</td>\n",
              "      <td>10024.0</td>\n",
              "      <td>3.0</td>\n",
              "      <td>1</td>\n",
              "      <td>0</td>\n",
              "      <td>199</td>\n",
              "      <td>NaN</td>\n",
              "    </tr>\n",
              "    <tr>\n",
              "      <th>4</th>\n",
              "      <td>500</td>\n",
              "      <td>6/26/2008</td>\n",
              "      <td>Trendy Times Square Loft</td>\n",
              "      <td>Manhattan</td>\n",
              "      <td>Apartment</td>\n",
              "      <td>95.0</td>\n",
              "      <td>Private room</td>\n",
              "      <td>10036.0</td>\n",
              "      <td>3.0</td>\n",
              "      <td>1</td>\n",
              "      <td>39</td>\n",
              "      <td>549</td>\n",
              "      <td>96.0</td>\n",
              "    </tr>\n",
              "  </tbody>\n",
              "</table>\n",
              "</div>\n",
              "    <div class=\"colab-df-buttons\">\n",
              "\n",
              "  <div class=\"colab-df-container\">\n",
              "    <button class=\"colab-df-convert\" onclick=\"convertToInteractive('df-896cdb41-2770-487c-9440-f6d88583f981')\"\n",
              "            title=\"Convert this dataframe to an interactive table.\"\n",
              "            style=\"display:none;\">\n",
              "\n",
              "  <svg xmlns=\"http://www.w3.org/2000/svg\" height=\"24px\" viewBox=\"0 -960 960 960\">\n",
              "    <path d=\"M120-120v-720h720v720H120Zm60-500h600v-160H180v160Zm220 220h160v-160H400v160Zm0 220h160v-160H400v160ZM180-400h160v-160H180v160Zm440 0h160v-160H620v160ZM180-180h160v-160H180v160Zm440 0h160v-160H620v160Z\"/>\n",
              "  </svg>\n",
              "    </button>\n",
              "\n",
              "  <style>\n",
              "    .colab-df-container {\n",
              "      display:flex;\n",
              "      gap: 12px;\n",
              "    }\n",
              "\n",
              "    .colab-df-convert {\n",
              "      background-color: #E8F0FE;\n",
              "      border: none;\n",
              "      border-radius: 50%;\n",
              "      cursor: pointer;\n",
              "      display: none;\n",
              "      fill: #1967D2;\n",
              "      height: 32px;\n",
              "      padding: 0 0 0 0;\n",
              "      width: 32px;\n",
              "    }\n",
              "\n",
              "    .colab-df-convert:hover {\n",
              "      background-color: #E2EBFA;\n",
              "      box-shadow: 0px 1px 2px rgba(60, 64, 67, 0.3), 0px 1px 3px 1px rgba(60, 64, 67, 0.15);\n",
              "      fill: #174EA6;\n",
              "    }\n",
              "\n",
              "    .colab-df-buttons div {\n",
              "      margin-bottom: 4px;\n",
              "    }\n",
              "\n",
              "    [theme=dark] .colab-df-convert {\n",
              "      background-color: #3B4455;\n",
              "      fill: #D2E3FC;\n",
              "    }\n",
              "\n",
              "    [theme=dark] .colab-df-convert:hover {\n",
              "      background-color: #434B5C;\n",
              "      box-shadow: 0px 1px 3px 1px rgba(0, 0, 0, 0.15);\n",
              "      filter: drop-shadow(0px 1px 2px rgba(0, 0, 0, 0.3));\n",
              "      fill: #FFFFFF;\n",
              "    }\n",
              "  </style>\n",
              "\n",
              "    <script>\n",
              "      const buttonEl =\n",
              "        document.querySelector('#df-896cdb41-2770-487c-9440-f6d88583f981 button.colab-df-convert');\n",
              "      buttonEl.style.display =\n",
              "        google.colab.kernel.accessAllowed ? 'block' : 'none';\n",
              "\n",
              "      async function convertToInteractive(key) {\n",
              "        const element = document.querySelector('#df-896cdb41-2770-487c-9440-f6d88583f981');\n",
              "        const dataTable =\n",
              "          await google.colab.kernel.invokeFunction('convertToInteractive',\n",
              "                                                    [key], {});\n",
              "        if (!dataTable) return;\n",
              "\n",
              "        const docLinkHtml = 'Like what you see? Visit the ' +\n",
              "          '<a target=\"_blank\" href=https://colab.research.google.com/notebooks/data_table.ipynb>data table notebook</a>'\n",
              "          + ' to learn more about interactive tables.';\n",
              "        element.innerHTML = '';\n",
              "        dataTable['output_type'] = 'display_data';\n",
              "        await google.colab.output.renderOutput(dataTable, element);\n",
              "        const docLink = document.createElement('div');\n",
              "        docLink.innerHTML = docLinkHtml;\n",
              "        element.appendChild(docLink);\n",
              "      }\n",
              "    </script>\n",
              "  </div>\n",
              "\n",
              "\n",
              "<div id=\"df-1462d830-0df3-474e-b9b1-8e0d15e86e68\">\n",
              "  <button class=\"colab-df-quickchart\" onclick=\"quickchart('df-1462d830-0df3-474e-b9b1-8e0d15e86e68')\"\n",
              "            title=\"Suggest charts\"\n",
              "            style=\"display:none;\">\n",
              "\n",
              "<svg xmlns=\"http://www.w3.org/2000/svg\" height=\"24px\"viewBox=\"0 0 24 24\"\n",
              "     width=\"24px\">\n",
              "    <g>\n",
              "        <path d=\"M19 3H5c-1.1 0-2 .9-2 2v14c0 1.1.9 2 2 2h14c1.1 0 2-.9 2-2V5c0-1.1-.9-2-2-2zM9 17H7v-7h2v7zm4 0h-2V7h2v10zm4 0h-2v-4h2v4z\"/>\n",
              "    </g>\n",
              "</svg>\n",
              "  </button>\n",
              "\n",
              "<style>\n",
              "  .colab-df-quickchart {\n",
              "      --bg-color: #E8F0FE;\n",
              "      --fill-color: #1967D2;\n",
              "      --hover-bg-color: #E2EBFA;\n",
              "      --hover-fill-color: #174EA6;\n",
              "      --disabled-fill-color: #AAA;\n",
              "      --disabled-bg-color: #DDD;\n",
              "  }\n",
              "\n",
              "  [theme=dark] .colab-df-quickchart {\n",
              "      --bg-color: #3B4455;\n",
              "      --fill-color: #D2E3FC;\n",
              "      --hover-bg-color: #434B5C;\n",
              "      --hover-fill-color: #FFFFFF;\n",
              "      --disabled-bg-color: #3B4455;\n",
              "      --disabled-fill-color: #666;\n",
              "  }\n",
              "\n",
              "  .colab-df-quickchart {\n",
              "    background-color: var(--bg-color);\n",
              "    border: none;\n",
              "    border-radius: 50%;\n",
              "    cursor: pointer;\n",
              "    display: none;\n",
              "    fill: var(--fill-color);\n",
              "    height: 32px;\n",
              "    padding: 0;\n",
              "    width: 32px;\n",
              "  }\n",
              "\n",
              "  .colab-df-quickchart:hover {\n",
              "    background-color: var(--hover-bg-color);\n",
              "    box-shadow: 0 1px 2px rgba(60, 64, 67, 0.3), 0 1px 3px 1px rgba(60, 64, 67, 0.15);\n",
              "    fill: var(--button-hover-fill-color);\n",
              "  }\n",
              "\n",
              "  .colab-df-quickchart-complete:disabled,\n",
              "  .colab-df-quickchart-complete:disabled:hover {\n",
              "    background-color: var(--disabled-bg-color);\n",
              "    fill: var(--disabled-fill-color);\n",
              "    box-shadow: none;\n",
              "  }\n",
              "\n",
              "  .colab-df-spinner {\n",
              "    border: 2px solid var(--fill-color);\n",
              "    border-color: transparent;\n",
              "    border-bottom-color: var(--fill-color);\n",
              "    animation:\n",
              "      spin 1s steps(1) infinite;\n",
              "  }\n",
              "\n",
              "  @keyframes spin {\n",
              "    0% {\n",
              "      border-color: transparent;\n",
              "      border-bottom-color: var(--fill-color);\n",
              "      border-left-color: var(--fill-color);\n",
              "    }\n",
              "    20% {\n",
              "      border-color: transparent;\n",
              "      border-left-color: var(--fill-color);\n",
              "      border-top-color: var(--fill-color);\n",
              "    }\n",
              "    30% {\n",
              "      border-color: transparent;\n",
              "      border-left-color: var(--fill-color);\n",
              "      border-top-color: var(--fill-color);\n",
              "      border-right-color: var(--fill-color);\n",
              "    }\n",
              "    40% {\n",
              "      border-color: transparent;\n",
              "      border-right-color: var(--fill-color);\n",
              "      border-top-color: var(--fill-color);\n",
              "    }\n",
              "    60% {\n",
              "      border-color: transparent;\n",
              "      border-right-color: var(--fill-color);\n",
              "    }\n",
              "    80% {\n",
              "      border-color: transparent;\n",
              "      border-right-color: var(--fill-color);\n",
              "      border-bottom-color: var(--fill-color);\n",
              "    }\n",
              "    90% {\n",
              "      border-color: transparent;\n",
              "      border-bottom-color: var(--fill-color);\n",
              "    }\n",
              "  }\n",
              "</style>\n",
              "\n",
              "  <script>\n",
              "    async function quickchart(key) {\n",
              "      const quickchartButtonEl =\n",
              "        document.querySelector('#' + key + ' button');\n",
              "      quickchartButtonEl.disabled = true;  // To prevent multiple clicks.\n",
              "      quickchartButtonEl.classList.add('colab-df-spinner');\n",
              "      try {\n",
              "        const charts = await google.colab.kernel.invokeFunction(\n",
              "            'suggestCharts', [key], {});\n",
              "      } catch (error) {\n",
              "        console.error('Error during call to suggestCharts:', error);\n",
              "      }\n",
              "      quickchartButtonEl.classList.remove('colab-df-spinner');\n",
              "      quickchartButtonEl.classList.add('colab-df-quickchart-complete');\n",
              "    }\n",
              "    (() => {\n",
              "      let quickchartButtonEl =\n",
              "        document.querySelector('#df-1462d830-0df3-474e-b9b1-8e0d15e86e68 button');\n",
              "      quickchartButtonEl.style.display =\n",
              "        google.colab.kernel.accessAllowed ? 'block' : 'none';\n",
              "    })();\n",
              "  </script>\n",
              "</div>\n",
              "    </div>\n",
              "  </div>\n"
            ]
          },
          "metadata": {},
          "execution_count": 27
        }
      ]
    },
    {
      "cell_type": "code",
      "source": [
        "price = df['Price']\n",
        "price.unique()"
      ],
      "metadata": {
        "id": "hDkML9kQ06Ek",
        "outputId": "0e5ab6d4-53c8-4c90-996b-e3cb706f66ff",
        "colab": {
          "base_uri": "https://localhost:8080/"
        }
      },
      "id": "hDkML9kQ06Ek",
      "execution_count": 28,
      "outputs": [
        {
          "output_type": "execute_result",
          "data": {
            "text/plain": [
              "array(['145', '37', '28', '199', '549', '149', '250', '90', '270', '290',\n",
              "       '170', '59', '49', '68', '285', '75', '100', '150', '700', '125',\n",
              "       '175', '40', '89', '95', '99', '499', '120', '79', '110', '180',\n",
              "       '143', '230', '350', '135', '85', '60', '70', '55', '44', '200',\n",
              "       '165', '115', '74', '84', '129', '50', '185', '80', '190', '140',\n",
              "       '45', '65', '225', '600', '109', '1,990', '73', '240', '72', '105',\n",
              "       '155', '160', '42', '132', '117', '295', '280', '159', '107', '69',\n",
              "       '239', '220', '399', '130', '375', '585', '275', '139', '260',\n",
              "       '35', '133', '300', '289', '179', '98', '195', '29', '27', '39',\n",
              "       '249', '192', '142', '169', '1,000', '131', '138', '113', '122',\n",
              "       '329', '101', '475', '238', '272', '308', '126', '235', '315',\n",
              "       '248', '128', '56', '207', '450', '215', '210', '385', '445',\n",
              "       '136', '247', '118', '77', '76', '92', '198', '205', '299', '222',\n",
              "       '245', '104', '153', '349', '114', '320', '292', '226', '420',\n",
              "       '500', '325', '307', '78', '265', '108', '123', '189', '32', '58',\n",
              "       '86', '219', '800', '335', '63', '229', '425', '67', '87', '1,200',\n",
              "       '158', '650', '234', '310', '695', '400', '166', '119', '62',\n",
              "       '168', '340', '479', '43', '395', '144', '52', '47', '529', '187',\n",
              "       '209', '233', '82', '269', '163', '172', '305', '156', '550',\n",
              "       '435', '137', '124', '48', '279', '330', '5,000', '134', '378',\n",
              "       '97', '277', '64', '193', '147', '186', '264', '30', '3,000',\n",
              "       '112', '94', '379', '57', '415', '236', '410', '214', '88', '66',\n",
              "       '71', '171', '157', '545', '1,500', '83', '96', '1,800', '81',\n",
              "       '188', '380', '255', '505', '54', '33', '174', '93', '740', '640',\n",
              "       '1,300', '440', '599', '357', '1,239', '495', '127', '5,999',\n",
              "       '178', '348', '152', '242', '183', '253', '750', '259', '365',\n",
              "       '273', '197', '397', '103', '389', '355', '559', '38', '203',\n",
              "       '999', '141', '162', '333', '698', '46', '360', '895', '10', '41',\n",
              "       '206', '281', '449', '388', '212', '102', '201', '2,750', '4,750',\n",
              "       '432', '675', '167', '390', '298', '339', '194', '302', '211',\n",
              "       '595', '191', '53', '361', '480', '8,000', '4,500', '459', '997',\n",
              "       '345', '216', '218', '111', '735', '276', '91', '490', '850',\n",
              "       '398', '36', '775', '267', '625', '336', '2,500', '176', '725',\n",
              "       '3,750', '469', '106', '460', '287', '575', '227', '263', '25',\n",
              "       '228', '208', '177', '880', '148', '116', '685', '470', '217',\n",
              "       '164', '61', '645', '699', '405', '252', '319', '268', '419',\n",
              "       '343', '525', '311', '840', '154', '294', '950', '409', '184',\n",
              "       '257', '204', '241', '2,000', '412', '121', '288', '196', '900',\n",
              "       '647', '524', '1,750', '309', '510', '1,495', '1,700', '799',\n",
              "       '383', '372', '492', '327', '1,999', '656', '224', '173', '875',\n",
              "       '1,170', '795', '690', '146', '465', '1,100', '151', '274', '429',\n",
              "       '825', '282', '256', '1,111', '620', '271', '161', '51', '855',\n",
              "       '579', '1,174', '430', '20', '899', '649', '485', '181', '455',\n",
              "       '4,000', '243', '342', '590', '560', '374', '437', '232', '359',\n",
              "       '985', '31', '244', '254', '723', '237', '428', '370', '34',\n",
              "       '1,400', '580', '2,520', '221', '749', '1,600', '2,695', '306',\n",
              "       '202', '680', '570', '520', '223', '2,295', '213', '1,065', '346',\n",
              "       '24', '286', '296', '266', '26', '995', '1,368', '393', '182',\n",
              "       '635', '258', '780', '589', '347', '1,250', '1,350', '446',\n",
              "       '3,200', '1,050', '1,650', '1,550', '975', '323', '6,500', '2,499',\n",
              "       '1,850', '2,250', '715', '461', '540', '356', '439', '384', '569',\n",
              "       '1,900', '22', '785', '626', '830', '318', '444', '321', '401',\n",
              "       '1,499', '888', '369', '770', '386', '366', '344', '630', '313',\n",
              "       '597', '262', '509', '10,000', '278', '312', '789', '1,195', '422',\n",
              "       '21', '765', '3,500', '945', '326', '3,100', '2,486', '3,390',\n",
              "       '1,356', '2,599', '472', '454', '328', '396', '291'], dtype=object)"
            ]
          },
          "metadata": {},
          "execution_count": 28
        }
      ]
    },
    {
      "cell_type": "markdown",
      "source": [
        "The Price variable is imported into the dataframe as a string so it needs to be coerced into numeric. Before that happens, we also need to replace the commas with nothing for prices over $999"
      ],
      "metadata": {
        "id": "W-u59MqS1Jkx"
      },
      "id": "W-u59MqS1Jkx"
    },
    {
      "cell_type": "code",
      "source": [
        "price = price.str.replace(',', '')\n",
        "price = pd.to_numeric(price, errors='coerce')\n",
        "\n",
        "# View new numeric values\n",
        "print(price.unique())\n",
        "\n",
        "# Report if any data was lost during coercion\n",
        "print('Total missing:', sum(price.isnull()))\n",
        "\n",
        "# Replace the Price variable with the cleaned version\n",
        "df['Price'] = price"
      ],
      "metadata": {
        "id": "SEhOJjcs2pRr",
        "outputId": "e3140bd0-614e-436c-cfe3-2f0087d380dd",
        "colab": {
          "base_uri": "https://localhost:8080/"
        }
      },
      "id": "SEhOJjcs2pRr",
      "execution_count": 29,
      "outputs": [
        {
          "output_type": "stream",
          "name": "stdout",
          "text": [
            "[  145    37    28   199   549   149   250    90   270   290   170    59\n",
            "    49    68   285    75   100   150   700   125   175    40    89    95\n",
            "    99   499   120    79   110   180   143   230   350   135    85    60\n",
            "    70    55    44   200   165   115    74    84   129    50   185    80\n",
            "   190   140    45    65   225   600   109  1990    73   240    72   105\n",
            "   155   160    42   132   117   295   280   159   107    69   239   220\n",
            "   399   130   375   585   275   139   260    35   133   300   289   179\n",
            "    98   195    29    27    39   249   192   142   169  1000   131   138\n",
            "   113   122   329   101   475   238   272   308   126   235   315   248\n",
            "   128    56   207   450   215   210   385   445   136   247   118    77\n",
            "    76    92   198   205   299   222   245   104   153   349   114   320\n",
            "   292   226   420   500   325   307    78   265   108   123   189    32\n",
            "    58    86   219   800   335    63   229   425    67    87  1200   158\n",
            "   650   234   310   695   400   166   119    62   168   340   479    43\n",
            "   395   144    52    47   529   187   209   233    82   269   163   172\n",
            "   305   156   550   435   137   124    48   279   330  5000   134   378\n",
            "    97   277    64   193   147   186   264    30  3000   112    94   379\n",
            "    57   415   236   410   214    88    66    71   171   157   545  1500\n",
            "    83    96  1800    81   188   380   255   505    54    33   174    93\n",
            "   740   640  1300   440   599   357  1239   495   127  5999   178   348\n",
            "   152   242   183   253   750   259   365   273   197   397   103   389\n",
            "   355   559    38   203   999   141   162   333   698    46   360   895\n",
            "    10    41   206   281   449   388   212   102   201  2750  4750   432\n",
            "   675   167   390   298   339   194   302   211   595   191    53   361\n",
            "   480  8000  4500   459   997   345   216   218   111   735   276    91\n",
            "   490   850   398    36   775   267   625   336  2500   176   725  3750\n",
            "   469   106   460   287   575   227   263    25   228   208   177   880\n",
            "   148   116   685   470   217   164    61   645   699   405   252   319\n",
            "   268   419   343   525   311   840   154   294   950   409   184   257\n",
            "   204   241  2000   412   121   288   196   900   647   524  1750   309\n",
            "   510  1495  1700   799   383   372   492   327  1999   656   224   173\n",
            "   875  1170   795   690   146   465  1100   151   274   429   825   282\n",
            "   256  1111   620   271   161    51   855   579  1174   430    20   899\n",
            "   649   485   181   455  4000   243   342   590   560   374   437   232\n",
            "   359   985    31   244   254   723   237   428   370    34  1400   580\n",
            "  2520   221   749  1600  2695   306   202   680   570   520   223  2295\n",
            "   213  1065   346    24   286   296   266    26   995  1368   393   182\n",
            "   635   258   780   589   347  1250  1350   446  3200  1050  1650  1550\n",
            "   975   323  6500  2499  1850  2250   715   461   540   356   439   384\n",
            "   569  1900    22   785   626   830   318   444   321   401  1499   888\n",
            "   369   770   386   366   344   630   313   597   262   509 10000   278\n",
            "   312   789  1195   422    21   765  3500   945   326  3100  2486  3390\n",
            "  1356  2599   472   454   328   396   291]\n",
            "Total missing: 0\n"
          ]
        }
      ]
    },
    {
      "cell_type": "markdown",
      "source": [
        "2. Categorical variable: For the `./data/sharks.csv` data covered in the lecture, clean the \"Type\" variable as well as you can, and explain the choices you make.\n"
      ],
      "metadata": {
        "id": "HQroHu_p0NNa"
      },
      "id": "HQroHu_p0NNa"
    },
    {
      "cell_type": "code",
      "source": [
        "df = pd.read_csv('/content/wrangling/assignment/data/sharks.csv', low_memory = False)\n",
        "type = df['Type']\n",
        "type.unique()"
      ],
      "metadata": {
        "id": "Q4gF35AQ4YBL",
        "outputId": "b1c85e2d-aa93-4f5f-f088-bb4de1d222b0",
        "colab": {
          "base_uri": "https://localhost:8080/"
        }
      },
      "id": "Q4gF35AQ4YBL",
      "execution_count": 30,
      "outputs": [
        {
          "output_type": "execute_result",
          "data": {
            "text/plain": [
              "array(['Unprovoked', 'Provoked', 'Questionable', 'Watercraft',\n",
              "       'Unconfirmed', 'Unverified', 'Invalid', 'Under investigation',\n",
              "       'Boating', 'Sea Disaster', nan, 'Boat', 'Boatomg'], dtype=object)"
            ]
          },
          "metadata": {},
          "execution_count": 30
        }
      ]
    },
    {
      "cell_type": "code",
      "source": [
        "type.value_counts()"
      ],
      "metadata": {
        "id": "sGVwBeZc7H8w",
        "outputId": "eb43c899-e305-437f-e6b0-da8be82585d0",
        "colab": {
          "base_uri": "https://localhost:8080/"
        }
      },
      "id": "sGVwBeZc7H8w",
      "execution_count": 31,
      "outputs": [
        {
          "output_type": "execute_result",
          "data": {
            "text/plain": [
              "Unprovoked             4716\n",
              "Provoked                593\n",
              "Invalid                 552\n",
              "Sea Disaster            239\n",
              "Watercraft              142\n",
              "Boat                    109\n",
              "Boating                  92\n",
              "Questionable             10\n",
              "Unconfirmed               1\n",
              "Unverified                1\n",
              "Under investigation       1\n",
              "Boatomg                   1\n",
              "Name: Type, dtype: int64"
            ]
          },
          "metadata": {},
          "execution_count": 31
        }
      ]
    },
    {
      "cell_type": "markdown",
      "source": [
        "Looking at the Type variable, it looks like we should combine the Sea Disaster, Watercraft, Boat, and Boating entries into one category since they all involve watercraft. I also want to replace any value that doesn't provide information about the type of shark attack with a nan value. Finally, there seems to be a typo with one of the entries where it says \"Boatomg\" instead of \"Boating\" so I want to make sure that gets sorted correctly."
      ],
      "metadata": {
        "id": "7hdl3BmN7JDK"
      },
      "id": "7hdl3BmN7JDK"
    },
    {
      "cell_type": "code",
      "source": [
        "type = type.replace(['Sea Disaster', 'Boat', 'Boating', 'Boatomg'], 'Watercraft')\n",
        "type = type.replace(['Invalid', 'Questionable', 'Unconfirmed', 'Unverified', 'Under investigation'], np.nan)\n",
        "type.value_counts()\n",
        "\n",
        "# Replace the Type variable with the cleaned version\n",
        "df['Type'] = type"
      ],
      "metadata": {
        "id": "irh4G_YR8cQq"
      },
      "id": "irh4G_YR8cQq",
      "execution_count": 32,
      "outputs": []
    },
    {
      "cell_type": "markdown",
      "source": [
        "3. Dummy variable: For the pretrial data covered in the lecture, clean the `WhetherDefendantWasReleasedPretrial` variable as well as you can, and, in particular, replace missing values with `np.nan`.\n"
      ],
      "metadata": {
        "id": "dZeGu1hf4T7S"
      },
      "id": "dZeGu1hf4T7S"
    },
    {
      "cell_type": "code",
      "source": [
        "url = 'http://www.vcsc.virginia.gov/pretrialdataproject/October%202017%20Cohort_Virginia%20Pretrial%20Data%20Project_Deidentified%20FINAL%20Update_10272021.csv'\n",
        "df = pd.read_csv(url,low_memory = False)"
      ],
      "metadata": {
        "id": "_MjmME5C9Xrx",
        "outputId": "8c1e2206-ecda-473f-9af1-f0c076227239",
        "colab": {
          "base_uri": "https://localhost:8080/",
          "height": 217
        }
      },
      "id": "_MjmME5C9Xrx",
      "execution_count": 36,
      "outputs": [
        {
          "output_type": "error",
          "ename": "SyntaxError",
          "evalue": "unmatched ')' (<ipython-input-36-fd1db91423a5>, line 2)",
          "traceback": [
            "\u001b[0;36m  File \u001b[0;32m\"<ipython-input-36-fd1db91423a5>\"\u001b[0;36m, line \u001b[0;32m2\u001b[0m\n\u001b[0;31m    url = 'http://www.vcsc.virginia.gov/pretrialdataproject/October%202017%20Cohort_Virginia%20Pretrial%20Data%20Project_Deidentified%20FINAL%20Update_10272021.csv', low_memory = False)\u001b[0m\n\u001b[0m                                                                                                                                                                                        ^\u001b[0m\n\u001b[0;31mSyntaxError\u001b[0m\u001b[0;31m:\u001b[0m unmatched ')'\n"
          ]
        }
      ]
    },
    {
      "cell_type": "code",
      "source": [
        "released = df['WhetherDefendantWasReleasedPretrial']\n",
        "released.unique()"
      ],
      "metadata": {
        "id": "aADUvoPN-orx",
        "outputId": "09af195b-48a8-471b-d870-361167349df7",
        "colab": {
          "base_uri": "https://localhost:8080/"
        }
      },
      "id": "aADUvoPN-orx",
      "execution_count": 42,
      "outputs": [
        {
          "output_type": "execute_result",
          "data": {
            "text/plain": [
              "array([9, 0, 1])"
            ]
          },
          "metadata": {},
          "execution_count": 42
        }
      ]
    },
    {
      "cell_type": "code",
      "source": [
        "released.value_counts()"
      ],
      "metadata": {
        "id": "CA9-rBikAzqr",
        "outputId": "6714a779-193b-4100-9618-0c1539b5a9b4",
        "colab": {
          "base_uri": "https://localhost:8080/"
        }
      },
      "id": "CA9-rBikAzqr",
      "execution_count": 43,
      "outputs": [
        {
          "output_type": "execute_result",
          "data": {
            "text/plain": [
              "1    19154\n",
              "0     3801\n",
              "9       31\n",
              "Name: WhetherDefendantWasReleasedPretrial, dtype: int64"
            ]
          },
          "metadata": {},
          "execution_count": 43
        }
      ]
    },
    {
      "cell_type": "code",
      "source": [
        "# Replace 9's with missing values because 9 is defined as \"Unclear\" in the codebook\n",
        "released = released.replace(9, np.nan)\n",
        "\n",
        "# Replace the variable with the cleaned version\n",
        "df['WhetherDefendantWasReleasedPretrial'] = released\n",
        "df['WhetherDefendantWasReleasedPretrial'].value_counts()"
      ],
      "metadata": {
        "id": "dey5pJIQA4BB",
        "outputId": "86cfd13a-6ab0-46ae-cff1-d005b5515ac6",
        "colab": {
          "base_uri": "https://localhost:8080/"
        }
      },
      "id": "dey5pJIQA4BB",
      "execution_count": 48,
      "outputs": [
        {
          "output_type": "execute_result",
          "data": {
            "text/plain": [
              "1.0    19154\n",
              "0.0     3801\n",
              "Name: WhetherDefendantWasReleasedPretrial, dtype: int64"
            ]
          },
          "metadata": {},
          "execution_count": 48
        }
      ]
    },
    {
      "cell_type": "markdown",
      "source": [
        "4. Missing values, not at random: For the pretrial data covered in the lecture, clean the `ImposedSentenceAllChargeInContactEvent` variable as well as you can, and explain the choices you make. (Hint: Look at the `SentenceTypeAllChargesAtConvictionInContactEvent` variable.)"
      ],
      "metadata": {
        "id": "WTXmnyHg4WRW"
      },
      "id": "WTXmnyHg4WRW"
    },
    {
      "cell_type": "code",
      "source": [
        "length = df['ImposedSentenceAllChargeInContactEvent']\n",
        "type = df['SentenceTypeAllChargesAtConvictionInContactEvent']"
      ],
      "metadata": {
        "id": "tMLBFrfyC0ke"
      },
      "id": "tMLBFrfyC0ke",
      "execution_count": 50,
      "outputs": []
    },
    {
      "cell_type": "code",
      "source": [
        "length.unique()"
      ],
      "metadata": {
        "id": "OblsgBVxGf9T",
        "outputId": "4b1579be-9209-4bff-c2d6-9ada38b8e208",
        "colab": {
          "base_uri": "https://localhost:8080/"
        }
      },
      "id": "OblsgBVxGf9T",
      "execution_count": 51,
      "outputs": [
        {
          "output_type": "execute_result",
          "data": {
            "text/plain": [
              "array([' ', '60', '12', '.985626283367556', '36', '6', '24',\n",
              "       '5.91375770020534', '120', '72', '11.9917864476386', '0',\n",
              "       '2.95687885010267', '84', '108', '300', '240', '180', '4', '96',\n",
              "       '2', '54', '.328542094455852', '44', '5', '115', '132', '48',\n",
              "       '258', '34', '76', '.164271047227926', '.131416837782341', '111',\n",
              "       '9', '3', '1.97125256673511', '36.9856262833676',\n",
              "       '.0657084188911704', '35.4928131416838', '106.492813141684', '8',\n",
              "       '35', '18.3141683778234', '480', '32', '93', '234', '732',\n",
              "       '1.16427104722793', '4.6570841889117', '21', '7',\n",
              "       '4.49281314168378', '18', '600', '43.1642710472279', '179', '52',\n",
              "       '30', '20', '192', '702', '14', '55', '53', '11.9055441478439',\n",
              "       '114', '35.0061601642711', '68', '.657084188911704',\n",
              "       '46.6242299794661', '102', '65', '200', '57', '24.3285420944559',\n",
              "       '12.1642710472279', '117', '81.4928131416838', '22.4928131416838',\n",
              "       '1980', '3.6570841889117', '56', '10', '2.79260780287474', '1',\n",
              "       '47', '22', '1500', '40', '284', '11', '118', '42', '162', '156',\n",
              "       '47.2956878850103', '105', '51', '246', '29', '75', '324', '360',\n",
              "       '34.4804928131417', '120.328542094456', '59.9260780287474', '66',\n",
              "       '59.9917864476386', '660', '51.1642710472279', '14.9568788501027',\n",
              "       '3.98562628336756', '78', '228', '1.47843942505133', '62', '4.8',\n",
              "       '86', '168', '23', '33', '48.0328542094456', '720', '348', '1200',\n",
              "       '27', '49', '87', '420', '63', '79.9260780287474',\n",
              "       '57.0349075975359', '49.9712525667351', '59.4928131416838', '17',\n",
              "       '238.492813141684', '60.9856262833676', '126', '45', '158', '216',\n",
              "       '227', '42.9568788501027', '445', '70.952772073922', '516',\n",
              "       '177.82135523614', '1752', '90', '1080', '141', '4.82956878850103',\n",
              "       '230', '31', '2208', '52.5133470225873', '69', '26',\n",
              "       '33.4928131416838', '140', '131', '344', '219', '101', '71', '59',\n",
              "       '58', '120.197125256674', '67', '35.4004106776181',\n",
              "       '3.28542094455852', '40.1642710472279', '91', '1.7741273100616',\n",
              "       '155', '34.4928131416838', '81', '92.3285420944559',\n",
              "       '3.5482546201232', '207', '74', '518', '28', '8.95687885010267',\n",
              "       '237', '404.673511293634', '18.1642710472279', '10.7433264887064',\n",
              "       '551', '39', '15', '124', '43', '176', '19.4928131416838', '482',\n",
              "       '129', '88', '46', '45.8542094455852', '128.628336755647',\n",
              "       '136.492813141684', '108.328542094456', '50', '363.663244353183',\n",
              "       '288', '250', '107', '81.0225872689938', '444', '205',\n",
              "       '10.6570841889117', '19', '66.9856262833676', '38.4928131416838',\n",
              "       '264', '276', '173', '222', '144', '294', '336', '431', '450',\n",
              "       '73', '99.3285420944559', '128', '30.8069815195072',\n",
              "       '31.5256673511294', '127', '202', '55.3285420944559', '89', '242',\n",
              "       '1.31416837782341', '1029', '.788501026694045', '194.858316221766',\n",
              "       '399', '39.6570841889117', '56.95687885', '198',\n",
              "       '120.985626283368', '47.6570841889117', '148', '6.8993839835729',\n",
              "       '65.3285420944559', '5.95277207392197', '.0985626283367557',\n",
              "       '3.32854209445585', '3.94250513347023', '12.9856262833676',\n",
              "       '6.98562628336756', '13.1498973305955', '15.1642710472279',\n",
              "       '17.1971252566735', '17.9137577002053', '104', '212',\n",
              "       '24.6570841889117', '72.6570841889117', '2.98562628336756',\n",
              "       '144.985626283368', '31.9712525667351', '183', '4.98562628336756',\n",
              "       '11.8213552361396', '252', '12.394250513347', '42.4928131416838',\n",
              "       '10.1642710472279', '11.1642710472279', '5.49281314168378',\n",
              "       '59.6632443531827', '12.3285420944559', '48.9856262833676',\n",
              "       '240.985626283368', '2.6570841889117', '540', '2.97125256673511',\n",
              "       '6.32854209445585', '23.6632443531828', '133.657084188912',\n",
              "       '35.3285420944559', '456', '103', '1.72279260780287',\n",
              "       '12.6570841889117', '11.6570841889117', '60.3285420944559',\n",
              "       '3.78850102669405', '576', '2.13141683778234', '492',\n",
              "       '14.9856262833676', '24.9856262833676', '61.9712525667351',\n",
              "       '5.6570841889117', '16', '42.1642710472279', '.492813141683778',\n",
              "       '138', '13.3141683778234', '11.8932238193018', '5.32854209445585',\n",
              "       '95', '62.6570841889117', '3.08829568788501', '11.8275154004107',\n",
              "       '1.64271047227926', '47.9917864476386', '4.27104722792608',\n",
              "       '8.32854209445585', '3.31416837782341', '70', '77',\n",
              "       '1.09856262833676', '48.1642710472279', '27.4928131416838',\n",
              "       '6.93839835728953', '1011', '.68993839835729', '1.1170431211499',\n",
              "       '1.49281314168378', '4.16427104722793', '1.19712525667351',\n",
              "       '4.07392197125257', '188', '11.3285420944559', '.0328542094455852',\n",
              "       '432', '11.952772073922', '36.4928131416838', '23.9835728952772',\n",
              "       '9.98562628336756', '98', '36.3285420944559', '112',\n",
              "       '.394250513347023', '13', '.262833675564682', '13.7987679671458',\n",
              "       '5.8870636550308', '354', '5.91991786447639', '24.1642710472279',\n",
              "       '62.95687885', '4.59958932238193', '123', '2.32854209445585',\n",
              "       '23.9240246406571', '204', '197', '174', '16.1498973305955', '840',\n",
              "       '440', '98.95687885', '17.952772073922', '63.9425051334702',\n",
              "       '60.1314168377823', '12.1314168377823', '172.952772073922',\n",
              "       '.197125256673511', '138.164271047228', '4.92813141683778',\n",
              "       '.919917864476386', '18.9856262833676', '6.6570841889117',\n",
              "       '2.85420944558522', '8.91375770020534', '146', '12.4928131416838',\n",
              "       '.558521560574949', '.722792607802875', '5.82135523613963',\n",
              "       '84.9856262833676', '6.16427104722793', '15.9856262833676',\n",
              "       '64.5585215605749', '38.299794661191', '11.958932238193',\n",
              "       '3.1211498973306', '126.328542094456', '5.16427104722793', '64',\n",
              "       '42.6570841889117', '312', '19.9712525667351', '82.3285420944559',\n",
              "       '23.9712525667351', '17.6242299794661', '121.971252566735',\n",
              "       '59.6550308008214', '1.32854209445585', '7.97125256673511',\n",
              "       '1.91991786447639', '.525667351129363', '9.32854209445585',\n",
              "       '42.9856262833676', '41.9137577002053', '72.9856262833676',\n",
              "       '12.4784394250513', '5.19096509240246', '473', '16.6570841889117',\n",
              "       '109', '86.3285420944559', '41', '1.90554414784394',\n",
              "       '94.1642710472279', '302', '4.39425051334702', '10.8213552361396',\n",
              "       '18.3285420944559', '154', '83', '110.956878850103', '226',\n",
              "       '96.0328542094456', '4.82135523613963', '30.3285420944559',\n",
              "       '37.9712525667351', '50.4640657084189', '286', '99',\n",
              "       '99.4928131416838', '2.6611909650924', '70.9712525667351',\n",
              "       '13.9712525667351', '23.6570841889117', '.459958932238193',\n",
              "       '132.492813141684', '283', '49.3141683778234', '27.9856262833676',\n",
              "       '38', '7.6570841889117', '83.6550308008214', '10.9199178644764',\n",
              "       '162.328542094456', '37', '132.328542094456', '35.952772073922',\n",
              "       '165', '10.9856262833676', '20.1642710472279', '2.59137577002053',\n",
              "       '175', '180.985626283368', '10.3285420944559', '36.1642710472279',\n",
              "       '120.657084188912', '232', '152', '8.98562628336756', '167',\n",
              "       '11.0657084188912', '11.2032854209446', '5.19712525667351',\n",
              "       '3.16427104722793', '60.1642710472279', '1.18275154004107',\n",
              "       '21.1642710472279', '2.19712525667351', '4.19712525667351',\n",
              "       '2.62833675564682', '119.952772073922', '119.958932238193',\n",
              "       '9.49281314168378', '5.25667351129363', '15.3285420944559',\n",
              "       '2.82135523613963', '192.985626283368', '48.6570841889117',\n",
              "       '5.95687885010267', '2.29979466119097', '960', '2.36550308008214',\n",
              "       '116', '19.5133470225873', '1.6570841889117'], dtype=object)"
            ]
          },
          "metadata": {},
          "execution_count": 51
        }
      ]
    },
    {
      "cell_type": "code",
      "source": [
        "length = pd.to_numeric(length, errors='coerce')\n",
        "\n",
        "# Create a missing dummy variable\n",
        "length_NA = length.isnull()\n",
        "print(np.sum(length_NA))"
      ],
      "metadata": {
        "id": "9KGpBgzoG0bR",
        "outputId": "3cedffc2-fd8f-4150-935f-2f6abd383f94",
        "colab": {
          "base_uri": "https://localhost:8080/"
        }
      },
      "id": "9KGpBgzoG0bR",
      "execution_count": 53,
      "outputs": [
        {
          "output_type": "stream",
          "name": "stdout",
          "text": [
            "9053\n"
          ]
        }
      ]
    },
    {
      "cell_type": "markdown",
      "source": [
        "9000 values were lost from the numeric conversion. Use SentenceTypeAllChargesAtConvictionInContactEvent variable to see if type can explain the missing entries for length."
      ],
      "metadata": {
        "id": "8tv_dTw2H5Lt"
      },
      "id": "8tv_dTw2H5Lt"
    },
    {
      "cell_type": "code",
      "source": [
        "print(pd.crosstab(length_NA, type))"
      ],
      "metadata": {
        "id": "OI8mNHu7IeT0",
        "outputId": "4c5d1df8-50af-48d4-a84f-7d9f10a46265",
        "colab": {
          "base_uri": "https://localhost:8080/"
        }
      },
      "id": "OI8mNHu7IeT0",
      "execution_count": 54,
      "outputs": [
        {
          "output_type": "stream",
          "name": "stdout",
          "text": [
            "SentenceTypeAllChargesAtConvictionInContactEvent     0     1    2     4    9\n",
            "ImposedSentenceAllChargeInContactEvent                                      \n",
            "False                                             8720  4299  914     0    0\n",
            "True                                                 0     0    0  8779  274\n"
          ]
        }
      ]
    },
    {
      "cell_type": "markdown",
      "source": [
        "Turns out values in ImposedSentenceAllChargeInContactEvent were entered as a space when the sentence was dismissed/pending/deferred (type 4) or missing (type 9). Therefore, when the data about sentence time was coerced to numeric, all those values were dropped. I want to replace those sentence types with accurate length times to preserve those values."
      ],
      "metadata": {
        "id": "CQEzux0sIwYz"
      },
      "id": "CQEzux0sIwYz"
    },
    {
      "cell_type": "code",
      "source": [
        "# Replace length with 0 when the sentence is dismissed/pending/deferred\n",
        "length = length.mask(type == 4, 0)\n",
        "\n",
        "# Replace length with np.nan when the sentence is missing/unknown\n",
        "length = length.mask(type == 9, np.nan)\n",
        "\n",
        "# See how many values are missing now\n",
        "length_NA = length.isnull()\n",
        "print( pd.crosstab(length_NA, type), '\\n')\n",
        "print( np.sum(length_NA))\n",
        "\n",
        "# Replace the variable with the cleaned version\n",
        "df['ImposedSentenceAllChargeInContactEvent'] = length"
      ],
      "metadata": {
        "id": "3DrDVrpMJ_9x",
        "outputId": "d4e35331-9b28-4e72-a6d1-c17e5f5b62ae",
        "colab": {
          "base_uri": "https://localhost:8080/"
        }
      },
      "id": "3DrDVrpMJ_9x",
      "execution_count": 56,
      "outputs": [
        {
          "output_type": "stream",
          "name": "stdout",
          "text": [
            "SentenceTypeAllChargesAtConvictionInContactEvent     0     1    2     4    9\n",
            "ImposedSentenceAllChargeInContactEvent                                      \n",
            "False                                             8720  4299  914  8779    0\n",
            "True                                                 0     0    0     0  274 \n",
            "\n",
            "274\n"
          ]
        }
      ]
    },
    {
      "cell_type": "markdown",
      "id": "649494cd-cfd6-4f80-992a-9994fc19e1d5",
      "metadata": {
        "id": "649494cd-cfd6-4f80-992a-9994fc19e1d5"
      },
      "source": [
        "**Q3.** Many important datasets contain a race variable, typically limited to a handful of values often including Black, White, Asian, Latino, and Indigenous. This question looks at data gathering efforts on this variable by the U.S. Federal government.\n",
        "\n",
        "1. How did the most recent US Census gather data on race?\n",
        "\n",
        "The US Census has people self-select what race they are using by checking boxes representing each race. You can check multiple boxes and also write in your ethnicity under those boxes.\n",
        "\n",
        "2. Why do we gather these data? What role do these kinds of data play in politics and society? Why does data quality matter?\n",
        "\n",
        "We gather these data because we want to how different types of people are treated and behave in America. If certain groups are disadvantaged and need aid from the government, then in theory, the census could help identify those problems for policymakers to fix. Collecting data on race is also important to see demographics and what groups make up certain regions and the US as a whole. Of course, the quality of the data matters or else you wouldn't be able to draw any conclusions.\n",
        "\n",
        "3. Please provide a constructive criticism of how the Census was conducted: What was done well? What do you think was missing? How should future large scale surveys be adjusted to best reflect the diversity of the population? Could some of the Census' good practices be adopted more widely to gather richer and more useful data?\n",
        "\n",
        "I think the Census does a good job of both letting people choose what race(s) they identify as and then providing an outlet for them to specify what subgroup they belong to within those races. I've seen other surveys that attempt to gather race characteristics only allow you to pick one race and won't let you specify what subgroups you belong to, except for Hispanic subgroups. As someone who is biracial and half-Chinese, I think these surveys should adopt the Census's approach because I never know what single race to choose in those situations. I also think the race \"Asian\" is too broad because it encapsulates a diverse, nonhomogenous set of subgroups such as Chinese, Japanese, Filipino etc.\n",
        "\n",
        "4. How did the Census gather data on sex and gender? Please provide a similar constructive criticism of their practices.\n",
        "\n",
        "From my research, the Census only asks for your biological sex which is either male or female. Obviously, some people identify with their gender more than their sex which is a spectrum that covers more than just male or female. If we refer back to how the Census essentially lets you choose race based off what you identify as most, I think they should treat this question the same way: let people choose what gender they identify as and provide more options to cover the spectrum.\n",
        "\n",
        "5. When it comes to cleaning data, what concerns do you have about protected characteristics like sex, gender, sexual identity, or race? What challenges can you imagine arising when there are missing values? What good or bad practices might people adopt, and why?\n",
        "\n",
        "When cleaning protected characteristics data, it may be difficult to interpret missing values because it could have been done intentionally. If someone has a complex understanding of their gender or race, then opting out of answering should be an accepted category. Some people might feel obligated to refer to a person's biological sex or family ancestry to fill in those missing values, however, doing so would destroy that person's agency to self-select what they align with best in the first place.\n",
        "\n",
        "6. Suppose someone invented an algorithm to impute values for protected characteristics like race, gender, sex, or sexuality. What kinds of concerns would you have?\n",
        "\n",
        "I think the problem with having an algorithm compute values for characteristics such as race is people might not be aware of everything that constitutes their race. A computer could look back at your ancestry and say you're part Native American because of your great-grandparent, but chances don't identify nor are treated like one. Does it make sense for you to represent that community on the census then? I think letting people self-select into what race(s) they identify as most achieves what the census is trying to accomplish by gathering this information which is organizing people into social groups."
      ]
    }
  ],
  "metadata": {
    "colab": {
      "provenance": []
    },
    "kernelspec": {
      "display_name": "Python 3 (ipykernel)",
      "language": "python",
      "name": "python3"
    },
    "language_info": {
      "codemirror_mode": {
        "name": "ipython",
        "version": 3
      },
      "file_extension": ".py",
      "mimetype": "text/x-python",
      "name": "python",
      "nbconvert_exporter": "python",
      "pygments_lexer": "ipython3",
      "version": "3.10.4"
    }
  },
  "nbformat": 4,
  "nbformat_minor": 5
}